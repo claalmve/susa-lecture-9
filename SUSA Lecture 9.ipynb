{
 "cells": [
  {
   "cell_type": "markdown",
   "metadata": {},
   "source": [
    "# k-Nearest Neighbors\n",
    "\n",
    "**k-Nearest Neighbors** (kNN) is a simple, yet powerful algorithm that can be used to solve classification problems. \n",
    "\n",
    "The core idea is that inputs should be classified with other inputs that have similar features.\n",
    "\n",
    "## The Algorithm\n",
    "\n",
    "<img src='KVisual.png' width=\"300\" height=\"300\">\n",
    "<center> Image from: https://www.mdpi.com/2076-3417/8/1/28 </center>\n",
    "\n",
    "The procedure for classifying an input $X$ for any general problem is as follows:\n",
    "1. Pick a value of $k$. Note: You can choose any value for $k$. What works best varies from data set to data set, which can be determined by trial and error. \n",
    "2. Find the $k$ nearest neighbors to your input, according to your distance metric.\n",
    "3. Count the number of neighbors in each category.\n",
    "4. Categorize the input based on the majority. \n",
    "\n",
    "Note: kNN has $O(1)$ training time! This is because there is no training. (Think about why)\n",
    "\n",
    "### Checkpoint\n",
    "1. In the figure above, what would the $?$ be categorized as when $k = 3$?\n",
    "2. What about when $k = 11$?"
   ]
  },
  {
   "cell_type": "markdown",
   "metadata": {},
   "source": [
    "**Your Answers Here**  \n",
    "1.\n",
    "2."
   ]
  },
  {
   "cell_type": "markdown",
   "metadata": {},
   "source": [
    "## Decision Boundaries\n",
    "\n",
    "Once we've chosen a value for $k$, we can imagine the **decision boundaries** associated with our model. \n",
    "\n",
    "<img src='decisionBoundary.png' width=\"300\" height=\"300\">\n",
    "<center> Image from: \"The Elements of Statistical Learning, by Hastie, Tibshirani, and Friedman.  </center>\n",
    "\n",
    "From every point in our feature space, we can calculate what an input at that location would be classified as. \n",
    "\n",
    "The decision boundaries divide our feature space into sections that would be assigned the same classification. "
   ]
  },
  {
   "cell_type": "markdown",
   "metadata": {},
   "source": [
    "## Bias Variance with kNN\n",
    "\n",
    "Now, lets take a look at how our models are affected by the value of $k$.\n",
    "\n",
    "### A Warm Up\n",
    "\n",
    "<img src='knn-variance.png' width=\"700\" height=\"700\">\n",
    "<center> Image from: http://ljdursi.github.io/ML-for-scientists/#1 </center>\n",
    "\n",
    "For some intuition take a moment to consider these extreme cases: \n",
    "> 1. How would our model behave if $k = n$?  \n",
    "> 2. What if $k = 1$?"
   ]
  },
  {
   "cell_type": "markdown",
   "metadata": {},
   "source": [
    "**Your Answers Here**\n",
    "1. \n",
    "2. "
   ]
  },
  {
   "cell_type": "markdown",
   "metadata": {},
   "source": [
    "And some questions to follow:\n",
    "> 3. Does $k=1$ or $k=n$ produce more jagged decision boundaries?\n",
    "> 4. Does this indicate higher or lower variancei within our model?"
   ]
  },
  {
   "cell_type": "markdown",
   "metadata": {},
   "source": [
    "**Your Thoughts Here**\n",
    "1. \n",
    "2. "
   ]
  },
  {
   "cell_type": "markdown",
   "metadata": {},
   "source": [
    "### An Analysis\n",
    "\n",
    "\n",
    "<img src='knn_k.png' width=\"900\" height=\"900\">\n",
    "<center> Image from: Classification of Hand-written Digits (3) by DeWilde </center>\n",
    "\n",
    "**k = 1**  \n",
    "When $k=1$, our model always picks the closest neighbor and classifies the input respectively. In this case our decision boundaries would be jagged from overfitting to every single detail, and small changes in the training dataset would cause the decision boundary to shift a lot. Since the model will be very different depending on the training data, $k=1$ would create models with **high variance** and **low bias**. \n",
    "\n",
    "**k = n**  \n",
    "On the other hand, when $k = n$, every single input would be categorized as the same. Consider the classification problem in the image above. When $k=n$ we'll look "
   ]
  },
  {
   "cell_type": "markdown",
   "metadata": {},
   "source": [
    "## Implementation"
   ]
  },
  {
   "cell_type": "markdown",
   "metadata": {},
   "source": [
    "# k-Nearest Neighbors (old)\n",
    "The **k-Nearest Neighbors** (kNN) algorithm is one of the simplest models. The core idea is that a similar set of features should have the same label. For example if we receive an image $A$ as input where we would like to classify the digit, we could look at what other images look like $A$ in our training set. If we were doing $5$-nearest neighbors, we would find the $5$ images closest to $A$ in our data set, and return the most common digit among the $5$. In general, you may choose any value for $k$, $5$ may not be the best choice. Note, this has a $O(1)$ training time! This is the fastest algorithm for training, as there is no training!\n",
    "\n",
    "However, some questions immediately arise. How do you determine how close two images are? Why choose $5$, not $10$ or $100$? There are other consequences as well; you need to look through your entire dataset each time to determine the $k$ closest images, which could take a long time if your training set is huge. The prediction time for kNN is $O(n)$, which is much slower than something like linear regression, where the prediction is $O(1)$.\n",
    "\n",
    "We will address these questions and the shortcomings of kNN.\n",
    "\n",
    "A few conceptual questions for understanding:\n",
    "1. In binary classification (two classes), why is choosing an odd value for $k$ better than an even value?\n",
    "2. Given two separate ordered pairs of two values, $(a,b)$ and $(x,y)$, what possibilities are there for calculating the \"distance\" between them? What are the differences between approaches?\n",
    "3. Assume we are doing image classification. List any possible issues with image classification.\n",
    "4. What does 1-NN mean? If we have $n$ training data, what is $n$-NN? What are some of the *tradeoffs* for varying $k$ between $1$ and $n$?"
   ]
  },
  {
   "cell_type": "code",
   "execution_count": 2,
   "metadata": {},
   "outputs": [],
   "source": [
    "# Run this cell to set up the notebook, but please don't change it.\n",
    "import numpy as np\n",
    "import math\n",
    "\n",
    "# These lines set up the plotting functionality and formatting.\n",
    "import matplotlib\n",
    "%matplotlib inline\n",
    "import matplotlib.pyplot as plt\n",
    "import warnings\n",
    "warnings.simplefilter(action=\"ignore\", category=FutureWarning)\n",
    "import pandas as pd\n",
    "#You may need to pip install pandas/matplotlib\n",
    "\n",
    "#Given a movie title, this returns the frequency of given words\n",
    "def wordFreq(movieTitle,words):\n",
    "    #Change movieTitle to lower case\n",
    "    movieTitle=movieTitle.lower()\n",
    "    \n",
    "    #Change words to lower case\n",
    "    words = [word.lower() for word in words]\n",
    "    #Check if movie title is found\n",
    "    try:\n",
    "        movie = movies[movies[\"Title\"]==movieTitle]\n",
    "    except:\n",
    "        print(\"Movie title not found!\")\n",
    "        return \"\"\n",
    "    \n",
    "    #Check if given words are not found\n",
    "    try:\n",
    "        wordFrequencies = movie[words].as_matrix()[0]\n",
    "    except:\n",
    "        print(\"Words not found\")\n",
    "        return \"\"\n",
    "    \n",
    "    return wordFrequencies\n"
   ]
  },
  {
   "cell_type": "code",
   "execution_count": 3,
   "metadata": {},
   "outputs": [
    {
     "data": {
      "text/html": [
       "<div>\n",
       "<style scoped>\n",
       "    .dataframe tbody tr th:only-of-type {\n",
       "        vertical-align: middle;\n",
       "    }\n",
       "\n",
       "    .dataframe tbody tr th {\n",
       "        vertical-align: top;\n",
       "    }\n",
       "\n",
       "    .dataframe thead th {\n",
       "        text-align: right;\n",
       "    }\n",
       "</style>\n",
       "<table border=\"1\" class=\"dataframe\">\n",
       "  <thead>\n",
       "    <tr style=\"text-align: right;\">\n",
       "      <th></th>\n",
       "      <th>Title</th>\n",
       "      <th>Genre</th>\n",
       "      <th>Year</th>\n",
       "      <th>Rating</th>\n",
       "      <th># Votes</th>\n",
       "      <th># Words</th>\n",
       "      <th>i</th>\n",
       "      <th>the</th>\n",
       "      <th>to</th>\n",
       "      <th>a</th>\n",
       "      <th>...</th>\n",
       "      <th>foster</th>\n",
       "      <th>pub</th>\n",
       "      <th>vegetarian</th>\n",
       "      <th>garrison</th>\n",
       "      <th>grammoo</th>\n",
       "      <th>chimney</th>\n",
       "      <th>bikini</th>\n",
       "      <th>richter</th>\n",
       "      <th>psychopath</th>\n",
       "      <th>fling</th>\n",
       "    </tr>\n",
       "  </thead>\n",
       "  <tbody>\n",
       "    <tr>\n",
       "      <th>0</th>\n",
       "      <td>the terminator</td>\n",
       "      <td>action</td>\n",
       "      <td>1984</td>\n",
       "      <td>8.1</td>\n",
       "      <td>183538</td>\n",
       "      <td>1849</td>\n",
       "      <td>0.040022</td>\n",
       "      <td>0.043807</td>\n",
       "      <td>0.025419</td>\n",
       "      <td>0.024878</td>\n",
       "      <td>...</td>\n",
       "      <td>0.0</td>\n",
       "      <td>0.0</td>\n",
       "      <td>0.0</td>\n",
       "      <td>0.0</td>\n",
       "      <td>0.0</td>\n",
       "      <td>0.0</td>\n",
       "      <td>0.0</td>\n",
       "      <td>0.0</td>\n",
       "      <td>0.000000</td>\n",
       "      <td>0.0</td>\n",
       "    </tr>\n",
       "    <tr>\n",
       "      <th>1</th>\n",
       "      <td>batman</td>\n",
       "      <td>action</td>\n",
       "      <td>1989</td>\n",
       "      <td>7.6</td>\n",
       "      <td>112731</td>\n",
       "      <td>2836</td>\n",
       "      <td>0.051481</td>\n",
       "      <td>0.033850</td>\n",
       "      <td>0.023977</td>\n",
       "      <td>0.028209</td>\n",
       "      <td>...</td>\n",
       "      <td>0.0</td>\n",
       "      <td>0.0</td>\n",
       "      <td>0.0</td>\n",
       "      <td>0.0</td>\n",
       "      <td>0.0</td>\n",
       "      <td>0.0</td>\n",
       "      <td>0.0</td>\n",
       "      <td>0.0</td>\n",
       "      <td>0.000000</td>\n",
       "      <td>0.0</td>\n",
       "    </tr>\n",
       "    <tr>\n",
       "      <th>2</th>\n",
       "      <td>tomorrow never dies</td>\n",
       "      <td>action</td>\n",
       "      <td>1997</td>\n",
       "      <td>6.4</td>\n",
       "      <td>47198</td>\n",
       "      <td>4215</td>\n",
       "      <td>0.028707</td>\n",
       "      <td>0.054330</td>\n",
       "      <td>0.030368</td>\n",
       "      <td>0.021827</td>\n",
       "      <td>...</td>\n",
       "      <td>0.0</td>\n",
       "      <td>0.0</td>\n",
       "      <td>0.0</td>\n",
       "      <td>0.0</td>\n",
       "      <td>0.0</td>\n",
       "      <td>0.0</td>\n",
       "      <td>0.0</td>\n",
       "      <td>0.0</td>\n",
       "      <td>0.000237</td>\n",
       "      <td>0.0</td>\n",
       "    </tr>\n",
       "    <tr>\n",
       "      <th>3</th>\n",
       "      <td>batman forever</td>\n",
       "      <td>action</td>\n",
       "      <td>1995</td>\n",
       "      <td>5.4</td>\n",
       "      <td>77223</td>\n",
       "      <td>3032</td>\n",
       "      <td>0.036609</td>\n",
       "      <td>0.042216</td>\n",
       "      <td>0.020449</td>\n",
       "      <td>0.031003</td>\n",
       "      <td>...</td>\n",
       "      <td>0.0</td>\n",
       "      <td>0.0</td>\n",
       "      <td>0.0</td>\n",
       "      <td>0.0</td>\n",
       "      <td>0.0</td>\n",
       "      <td>0.0</td>\n",
       "      <td>0.0</td>\n",
       "      <td>0.0</td>\n",
       "      <td>0.000000</td>\n",
       "      <td>0.0</td>\n",
       "    </tr>\n",
       "    <tr>\n",
       "      <th>4</th>\n",
       "      <td>supergirl</td>\n",
       "      <td>action</td>\n",
       "      <td>1984</td>\n",
       "      <td>4.1</td>\n",
       "      <td>6576</td>\n",
       "      <td>3842</td>\n",
       "      <td>0.041905</td>\n",
       "      <td>0.032275</td>\n",
       "      <td>0.028891</td>\n",
       "      <td>0.026288</td>\n",
       "      <td>...</td>\n",
       "      <td>0.0</td>\n",
       "      <td>0.0</td>\n",
       "      <td>0.0</td>\n",
       "      <td>0.0</td>\n",
       "      <td>0.0</td>\n",
       "      <td>0.0</td>\n",
       "      <td>0.0</td>\n",
       "      <td>0.0</td>\n",
       "      <td>0.000000</td>\n",
       "      <td>0.0</td>\n",
       "    </tr>\n",
       "  </tbody>\n",
       "</table>\n",
       "<p>5 rows × 5006 columns</p>\n",
       "</div>"
      ],
      "text/plain": [
       "                 Title   Genre  Year  Rating  # Votes  # Words         i  \\\n",
       "0       the terminator  action  1984     8.1   183538     1849  0.040022   \n",
       "1               batman  action  1989     7.6   112731     2836  0.051481   \n",
       "2  tomorrow never dies  action  1997     6.4    47198     4215  0.028707   \n",
       "3       batman forever  action  1995     5.4    77223     3032  0.036609   \n",
       "4            supergirl  action  1984     4.1     6576     3842  0.041905   \n",
       "\n",
       "        the        to         a  ...    foster  pub  vegetarian  garrison  \\\n",
       "0  0.043807  0.025419  0.024878  ...       0.0  0.0         0.0       0.0   \n",
       "1  0.033850  0.023977  0.028209  ...       0.0  0.0         0.0       0.0   \n",
       "2  0.054330  0.030368  0.021827  ...       0.0  0.0         0.0       0.0   \n",
       "3  0.042216  0.020449  0.031003  ...       0.0  0.0         0.0       0.0   \n",
       "4  0.032275  0.028891  0.026288  ...       0.0  0.0         0.0       0.0   \n",
       "\n",
       "   grammoo  chimney  bikini  richter  psychopath  fling  \n",
       "0      0.0      0.0     0.0      0.0    0.000000    0.0  \n",
       "1      0.0      0.0     0.0      0.0    0.000000    0.0  \n",
       "2      0.0      0.0     0.0      0.0    0.000237    0.0  \n",
       "3      0.0      0.0     0.0      0.0    0.000000    0.0  \n",
       "4      0.0      0.0     0.0      0.0    0.000000    0.0  \n",
       "\n",
       "[5 rows x 5006 columns]"
      ]
     },
     "execution_count": 3,
     "metadata": {},
     "output_type": "execute_result"
    }
   ],
   "source": [
    "#Let's see what our dataset looks like!\n",
    "movies = pd.read_csv('movies.csv')\n",
    "movies.head()\n"
   ]
  },
  {
   "cell_type": "code",
   "execution_count": 4,
   "metadata": {},
   "outputs": [
    {
     "data": {
      "text/html": [
       "<div>\n",
       "<style scoped>\n",
       "    .dataframe tbody tr th:only-of-type {\n",
       "        vertical-align: middle;\n",
       "    }\n",
       "\n",
       "    .dataframe tbody tr th {\n",
       "        vertical-align: top;\n",
       "    }\n",
       "\n",
       "    .dataframe thead th {\n",
       "        text-align: right;\n",
       "    }\n",
       "</style>\n",
       "<table border=\"1\" class=\"dataframe\">\n",
       "  <thead>\n",
       "    <tr style=\"text-align: right;\">\n",
       "      <th></th>\n",
       "      <th>Title</th>\n",
       "      <th>Genre</th>\n",
       "      <th>Year</th>\n",
       "      <th>Rating</th>\n",
       "      <th># Votes</th>\n",
       "      <th># Words</th>\n",
       "      <th>i</th>\n",
       "      <th>the</th>\n",
       "      <th>to</th>\n",
       "      <th>a</th>\n",
       "      <th>...</th>\n",
       "      <th>foster</th>\n",
       "      <th>pub</th>\n",
       "      <th>vegetarian</th>\n",
       "      <th>garrison</th>\n",
       "      <th>grammoo</th>\n",
       "      <th>chimney</th>\n",
       "      <th>bikini</th>\n",
       "      <th>richter</th>\n",
       "      <th>psychopath</th>\n",
       "      <th>fling</th>\n",
       "    </tr>\n",
       "  </thead>\n",
       "  <tbody>\n",
       "    <tr>\n",
       "      <th>0</th>\n",
       "      <td>the terminator</td>\n",
       "      <td>action</td>\n",
       "      <td>1984</td>\n",
       "      <td>8.1</td>\n",
       "      <td>183538</td>\n",
       "      <td>1849</td>\n",
       "      <td>0.040022</td>\n",
       "      <td>0.043807</td>\n",
       "      <td>0.025419</td>\n",
       "      <td>0.024878</td>\n",
       "      <td>...</td>\n",
       "      <td>0.0</td>\n",
       "      <td>0.0</td>\n",
       "      <td>0.0</td>\n",
       "      <td>0.0</td>\n",
       "      <td>0.0</td>\n",
       "      <td>0.0</td>\n",
       "      <td>0.0</td>\n",
       "      <td>0.0</td>\n",
       "      <td>0.000000</td>\n",
       "      <td>0.0</td>\n",
       "    </tr>\n",
       "    <tr>\n",
       "      <th>1</th>\n",
       "      <td>batman</td>\n",
       "      <td>action</td>\n",
       "      <td>1989</td>\n",
       "      <td>7.6</td>\n",
       "      <td>112731</td>\n",
       "      <td>2836</td>\n",
       "      <td>0.051481</td>\n",
       "      <td>0.033850</td>\n",
       "      <td>0.023977</td>\n",
       "      <td>0.028209</td>\n",
       "      <td>...</td>\n",
       "      <td>0.0</td>\n",
       "      <td>0.0</td>\n",
       "      <td>0.0</td>\n",
       "      <td>0.0</td>\n",
       "      <td>0.0</td>\n",
       "      <td>0.0</td>\n",
       "      <td>0.0</td>\n",
       "      <td>0.0</td>\n",
       "      <td>0.000000</td>\n",
       "      <td>0.0</td>\n",
       "    </tr>\n",
       "    <tr>\n",
       "      <th>2</th>\n",
       "      <td>tomorrow never dies</td>\n",
       "      <td>action</td>\n",
       "      <td>1997</td>\n",
       "      <td>6.4</td>\n",
       "      <td>47198</td>\n",
       "      <td>4215</td>\n",
       "      <td>0.028707</td>\n",
       "      <td>0.054330</td>\n",
       "      <td>0.030368</td>\n",
       "      <td>0.021827</td>\n",
       "      <td>...</td>\n",
       "      <td>0.0</td>\n",
       "      <td>0.0</td>\n",
       "      <td>0.0</td>\n",
       "      <td>0.0</td>\n",
       "      <td>0.0</td>\n",
       "      <td>0.0</td>\n",
       "      <td>0.0</td>\n",
       "      <td>0.0</td>\n",
       "      <td>0.000237</td>\n",
       "      <td>0.0</td>\n",
       "    </tr>\n",
       "    <tr>\n",
       "      <th>3</th>\n",
       "      <td>batman forever</td>\n",
       "      <td>action</td>\n",
       "      <td>1995</td>\n",
       "      <td>5.4</td>\n",
       "      <td>77223</td>\n",
       "      <td>3032</td>\n",
       "      <td>0.036609</td>\n",
       "      <td>0.042216</td>\n",
       "      <td>0.020449</td>\n",
       "      <td>0.031003</td>\n",
       "      <td>...</td>\n",
       "      <td>0.0</td>\n",
       "      <td>0.0</td>\n",
       "      <td>0.0</td>\n",
       "      <td>0.0</td>\n",
       "      <td>0.0</td>\n",
       "      <td>0.0</td>\n",
       "      <td>0.0</td>\n",
       "      <td>0.0</td>\n",
       "      <td>0.000000</td>\n",
       "      <td>0.0</td>\n",
       "    </tr>\n",
       "    <tr>\n",
       "      <th>4</th>\n",
       "      <td>supergirl</td>\n",
       "      <td>action</td>\n",
       "      <td>1984</td>\n",
       "      <td>4.1</td>\n",
       "      <td>6576</td>\n",
       "      <td>3842</td>\n",
       "      <td>0.041905</td>\n",
       "      <td>0.032275</td>\n",
       "      <td>0.028891</td>\n",
       "      <td>0.026288</td>\n",
       "      <td>...</td>\n",
       "      <td>0.0</td>\n",
       "      <td>0.0</td>\n",
       "      <td>0.0</td>\n",
       "      <td>0.0</td>\n",
       "      <td>0.0</td>\n",
       "      <td>0.0</td>\n",
       "      <td>0.0</td>\n",
       "      <td>0.0</td>\n",
       "      <td>0.000000</td>\n",
       "      <td>0.0</td>\n",
       "    </tr>\n",
       "  </tbody>\n",
       "</table>\n",
       "<p>5 rows × 5006 columns</p>\n",
       "</div>"
      ],
      "text/plain": [
       "                 Title   Genre  Year  Rating  # Votes  # Words         i  \\\n",
       "0       the terminator  action  1984     8.1   183538     1849  0.040022   \n",
       "1               batman  action  1989     7.6   112731     2836  0.051481   \n",
       "2  tomorrow never dies  action  1997     6.4    47198     4215  0.028707   \n",
       "3       batman forever  action  1995     5.4    77223     3032  0.036609   \n",
       "4            supergirl  action  1984     4.1     6576     3842  0.041905   \n",
       "\n",
       "        the        to         a  ...    foster  pub  vegetarian  garrison  \\\n",
       "0  0.043807  0.025419  0.024878  ...       0.0  0.0         0.0       0.0   \n",
       "1  0.033850  0.023977  0.028209  ...       0.0  0.0         0.0       0.0   \n",
       "2  0.054330  0.030368  0.021827  ...       0.0  0.0         0.0       0.0   \n",
       "3  0.042216  0.020449  0.031003  ...       0.0  0.0         0.0       0.0   \n",
       "4  0.032275  0.028891  0.026288  ...       0.0  0.0         0.0       0.0   \n",
       "\n",
       "   grammoo  chimney  bikini  richter  psychopath  fling  \n",
       "0      0.0      0.0     0.0      0.0    0.000000    0.0  \n",
       "1      0.0      0.0     0.0      0.0    0.000000    0.0  \n",
       "2      0.0      0.0     0.0      0.0    0.000237    0.0  \n",
       "3      0.0      0.0     0.0      0.0    0.000000    0.0  \n",
       "4      0.0      0.0     0.0      0.0    0.000000    0.0  \n",
       "\n",
       "[5 rows x 5006 columns]"
      ]
     },
     "execution_count": 4,
     "metadata": {},
     "output_type": "execute_result"
    }
   ],
   "source": [
    "#Let's see what our dataset looks like!\n",
    "movies = pd.read_csv('movies.csv')\n",
    "movies.head()\n"
   ]
  },
  {
   "cell_type": "code",
   "execution_count": 5,
   "metadata": {},
   "outputs": [
    {
     "name": "stdout",
     "output_type": "stream",
     "text": [
      "<class 'pandas.core.frame.DataFrame'>\n",
      "[0.00035261 0.05148096]\n"
     ]
    }
   ],
   "source": [
    "#What type is movies?\n",
    "print(type(movies))\n",
    "\n",
    "#What is the frequency of the words \"hey\" and \"i\" in the matrix? Try some yourself! \n",
    "print(wordFreq(\"batman\",[\"Hey\",\"i\"]))"
   ]
  },
  {
   "cell_type": "markdown",
   "metadata": {},
   "source": [
    "## kNN Classification and Feature Selection\n",
    "Our goal is to be able to classify songs based on the frequency of various words in the script. However it is not feasible to use all the words as that is very calculation intensive. An alternative is to select certain features, but what features do we select? One method to look at which words are often in romance movies but not action, and vice versa. This is called **feature selection**. \n",
    "\n",
    "First, we will separate the data into training and validation data. Next, we may create some elementary functions such as the distance between movies, getting movies as pandas series, and finding the $k$ movies closest to some given movie."
   ]
  },
  {
   "cell_type": "code",
   "execution_count": 6,
   "metadata": {},
   "outputs": [],
   "source": [
    "#Split the data into 80 training and 20 validation\n",
    "trainingPercentage = 80/100\n",
    "numMovies = movies.shape[0]\n",
    "numTraining = (int)(numMovies*trainingPercentage)\n",
    "numValidation = numMovies - numTraining\n",
    "\n",
    "#Training Set\n",
    "trainingSet = movies[0:numTraining]\n",
    "\n",
    "#Validation Set\n",
    "validationSet = movies[numTraining:]\n"
   ]
  },
  {
   "cell_type": "code",
   "execution_count": 7,
   "metadata": {},
   "outputs": [],
   "source": [
    "#Separate into action and romance\n",
    "action = trainingSet[trainingSet[\"Genre\"]==\"action\"]\n",
    "romance = trainingSet[trainingSet[\"Genre\"]==\"romance\"]"
   ]
  },
  {
   "cell_type": "code",
   "execution_count": 8,
   "metadata": {},
   "outputs": [],
   "source": [
    "#Given two movie titles mov1,mov2, and a list of words\n",
    "#distance returns the euclidean distance between the two movies using the words as features\n",
    "def distance(mov1,mov2,words):\n",
    "    mov1Freq=wordFreq(mov1,words)\n",
    "    mov2Freq=wordFreq(mov2,words)\n",
    "    return np.sqrt(sum((mov1Freq-mov2Freq)**2))\n",
    "\n",
    "#Given a movie title, this returns the row as a pandas series\n",
    "def getMovie(title):\n",
    "    title = title.lower()\n",
    "    return movies[movies[\"Title\"]==title].squeeze()\n",
    "\n",
    "#Given a movie as a panda series, determines the k closest movies using words as features\n",
    "#Returns the dataframe of movies\n",
    "def kShortestDistance(k,movie,movieSet,words):\n",
    "    distances=[]\n",
    "    #Iterate over all movies\n",
    "    for i in range(movieSet.shape[0]):\n",
    "        currMovieTitle = movieSet.iloc[i][\"Title\"]\n",
    "        #Get the distance of two movies from two movies \n",
    "        dist = distance(currMovieTitle,movie[\"Title\"],words)\n",
    "        distances.append((dist,i))\n",
    "    #Sort the array\n",
    "    distances = sorted(distances,key=lambda x:x[0])\n",
    "    #Get the indices of the movies\n",
    "    indices = [x[1] for x in distances]\n",
    "    return movieSet.iloc[indices[1:k+1]]\n",
    "\n",
    "#Faster kShortestDistance using subsetting\n",
    "def kShortestDistanceFast(k,movie,movieSet,words):\n",
    "    #Subset out the words\n",
    "    movieSubset = movieSet[words]\n",
    "    currMovie = movie[words].squeeze()\n",
    "    #Calculate Distances and sort\n",
    "    distances = ((movieSubset-currMovie)**2).sum(axis=1)\n",
    "    distances = distances.sort_values()\n",
    "    #Shift by the minimum index if the movies do not start at 0\n",
    "    indices = distances.index.tolist()\n",
    "    minIndex = min(indices)\n",
    "    shiftedIndices=(np.array(indices)-minIndex).tolist()\n",
    "    return movieSet.iloc[shiftedIndices[1:k+1]]\n",
    "\n",
    "#Given a list of movies, returns the majority genre\n",
    "def getMajority(nearestMovies):\n",
    "    numMovies = nearestMovies.shape[0]\n",
    "    #Count frequency of genres\n",
    "    counts = nearestMovies['Genre'].value_counts()\n",
    "    if len(counts)==1:\n",
    "        return [x[0] for x in counts.items()][0]\n",
    "    if counts[\"action\"]>numMovies/2:\n",
    "        return \"action\"\n",
    "    return \"romance\"\n",
    "\n",
    "#Given a dataset, a set of word features, and the value of k\n",
    "#Returns the percentage correct (0-100)\n",
    "def accuracy(dataset,features,k):\n",
    "    numCorrect = 0 \n",
    "    #Iterate over all movies\n",
    "    for i in range(dataset.shape[0]):\n",
    "        currMovie = dataset.iloc[i].squeeze()\n",
    "        currMovieGenre = currMovie[\"Genre\"]\n",
    "        #Calculate k closest movies\n",
    "        kClosest = kShortestDistanceFast(k,currMovie,dataset,features)\n",
    "        predGenre = getMajority(kClosest)\n",
    "        #Keep track of number of correct predictions\n",
    "        if predGenre == currMovieGenre:\n",
    "            numCorrect +=1\n",
    "    #Return accuracy as percentage\n",
    "    return numCorrect*1.0/dataset.shape[0]*100"
   ]
  },
  {
   "cell_type": "markdown",
   "metadata": {},
   "source": [
    "The code below uses \"power\" and \"love\" as features to find the $5$ closest movies to \"batman returns\". Then we get the majority of the genres of those five movies, and we find that batman returns is predicted to be action based on those $5$ movies. "
   ]
  },
  {
   "cell_type": "code",
   "execution_count": 9,
   "metadata": {},
   "outputs": [
    {
     "data": {
      "text/plain": [
       "'action'"
      ]
     },
     "execution_count": 9,
     "metadata": {},
     "output_type": "execute_result"
    }
   ],
   "source": [
    "#Use \"money\" and \"feel\" as features\n",
    "features = [\"power\",\"love\"]\n",
    "movie = getMovie(\"batman returns\")\n",
    "#Get the five closest movies to the \"batman returns\" using the training set\n",
    "closest=kShortestDistance(5,movie,trainingSet,features)\n",
    "#Given the closest movies, returns the majority \n",
    "#Represents the kNN Prediction\n",
    "getMajority(closest)"
   ]
  },
  {
   "cell_type": "markdown",
   "metadata": {},
   "source": [
    "Use this word plot (courtesy of Data 8) to construct some of your own features!\n",
    "<img src='wordplot.png' width=\"700\" height=\"700\">"
   ]
  },
  {
   "cell_type": "code",
   "execution_count": 10,
   "metadata": {},
   "outputs": [
    {
     "data": {
      "text/plain": [
       "62.17616580310881"
      ]
     },
     "execution_count": 10,
     "metadata": {},
     "output_type": "execute_result"
    }
   ],
   "source": [
    "#Try with some of your own features!\n",
    "features = [\"power\",\"feel\"]\n",
    "k=5\n",
    "accuracy(trainingSet,features,k)"
   ]
  },
  {
   "cell_type": "code",
   "execution_count": 11,
   "metadata": {},
   "outputs": [],
   "source": [
    "#Our chosen features\n",
    "features = [\"men\",\"power\",\"marri\",\"nice\",\"home\",\"captain\",\"move\",\"run\",\"world\",\"huh\",\"happi\",\"move\",\"write\",\"hello\"]"
   ]
  },
  {
   "cell_type": "markdown",
   "metadata": {},
   "source": [
    "With our own chosen features, we then use the training set to determine the optimal value for $k$. Afterwards, we use this value of $k$ to find the accuracy on the validation data."
   ]
  },
  {
   "cell_type": "code",
   "execution_count": 12,
   "metadata": {},
   "outputs": [
    {
     "data": {
      "image/png": "[encoded data removed]",
      "text/plain": [
       "<Figure size 432x288 with 1 Axes>"
      ]
     },
     "metadata": {},
     "output_type": "display_data"
    }
   ],
   "source": [
    "#Determine the best value for k\n",
    "trainAccuracies = []\n",
    "numKValues = 30\n",
    "for i in range(numKValues):\n",
    "    acc =accuracy(trainingSet,features,2*i+1)\n",
    "    trainAccuracies.append(acc)\n",
    "xAxis = ([2*i+1 for i in range(numKValues)])\n",
    "plt.plot(xAxis,trainAccuracies)\n",
    "plt.show()\n",
    "\n"
   ]
  },
  {
   "cell_type": "markdown",
   "metadata": {},
   "source": [
    "Using the previous information about overfitting and underfitting, explain the shape of the graph! Why is the accuracy low for $k=1$ and as $k$ increases past $15$?"
   ]
  },
  {
   "cell_type": "code",
   "execution_count": 13,
   "metadata": {},
   "outputs": [
    {
     "name": "stdout",
     "output_type": "stream",
     "text": [
      "Best k: 11\n",
      "Test Accuracy: 71.42857142857143\n"
     ]
    }
   ],
   "source": [
    "#Determine best value for k\n",
    "optimalK=xAxis[np.argmax(trainAccuracies)]\n",
    "\n",
    "#Best kNN was found with k=11\n",
    "print(\"Best k:\",optimalK)\n",
    "\n",
    "#Determine validation error with this value for k\n",
    "optimalKNNVal = accuracy(validationSet,features,optimalK)\n",
    "print(\"Test Accuracy:\",optimalKNNVal)\n"
   ]
  },
  {
   "cell_type": "markdown",
   "metadata": {},
   "source": [
    "Why is the accuracy for the validation set lower than the training accuracy (about $75\\%$)?"
   ]
  },
  {
   "cell_type": "markdown",
   "metadata": {},
   "source": [
    "## Bias and Variance in $k$-Nearest Neighbors\n",
    "\n",
    "Let's investigate bias and variance in terms of kNN. A great dataset is the iris dataset, which contains three classes of irises and $50$ examples of each. The data set contains sepal and petal length and width. For the sake of clarity, I add some noise to the iris data so that the decision boundaries are not as clear."
   ]
  },
  {
   "cell_type": "code",
   "execution_count": 14,
   "metadata": {},
   "outputs": [
    {
     "ename": "NameError",
     "evalue": "name 'y' is not defined",
     "output_type": "error",
     "traceback": [
      "\u001b[0;31m---------------------------------------------------------------------------\u001b[0m",
      "\u001b[0;31mNameError\u001b[0m                                 Traceback (most recent call last)",
      "\u001b[0;32m<ipython-input-14-9239862d68fc>\u001b[0m in \u001b[0;36m<module>\u001b[0;34m()\u001b[0m\n\u001b[1;32m     14\u001b[0m \u001b[0mX\u001b[0m \u001b[0;34m=\u001b[0m \u001b[0miris\u001b[0m\u001b[0;34m.\u001b[0m\u001b[0mdata\u001b[0m\u001b[0;34m[\u001b[0m\u001b[0;34m:\u001b[0m\u001b[0;34m,\u001b[0m \u001b[0;34m:\u001b[0m\u001b[0;36m2\u001b[0m\u001b[0;34m]\u001b[0m\u001b[0;34m\u001b[0m\u001b[0m\n\u001b[1;32m     15\u001b[0m \u001b[0mX\u001b[0m \u001b[0;34m=\u001b[0m \u001b[0mX\u001b[0m \u001b[0;34m+\u001b[0m \u001b[0;36m0.3\u001b[0m\u001b[0;34m*\u001b[0m\u001b[0mnp\u001b[0m\u001b[0;34m.\u001b[0m\u001b[0mrandom\u001b[0m\u001b[0;34m.\u001b[0m\u001b[0mrandn\u001b[0m\u001b[0;34m(\u001b[0m\u001b[0mX\u001b[0m\u001b[0;34m.\u001b[0m\u001b[0mshape\u001b[0m\u001b[0;34m[\u001b[0m\u001b[0;36m0\u001b[0m\u001b[0;34m]\u001b[0m\u001b[0;34m,\u001b[0m \u001b[0mX\u001b[0m\u001b[0;34m.\u001b[0m\u001b[0mshape\u001b[0m\u001b[0;34m[\u001b[0m\u001b[0;36m1\u001b[0m\u001b[0;34m]\u001b[0m\u001b[0;34m)\u001b[0m\u001b[0;34m\u001b[0m\u001b[0m\n\u001b[0;32m---> 16\u001b[0;31m \u001b[0my\u001b[0m\u001b[0;34m[\u001b[0m\u001b[0;34m:\u001b[0m\u001b[0;34m]\u001b[0m \u001b[0;34m=\u001b[0m \u001b[0miris\u001b[0m\u001b[0;34m.\u001b[0m\u001b[0mtarget\u001b[0m\u001b[0;34m\u001b[0m\u001b[0m\n\u001b[0m\u001b[1;32m     17\u001b[0m \u001b[0mh\u001b[0m \u001b[0;34m=\u001b[0m \u001b[0;36m.02\u001b[0m  \u001b[0;31m# step size in the mesh\u001b[0m\u001b[0;34m\u001b[0m\u001b[0m\n\u001b[1;32m     18\u001b[0m \u001b[0;34m\u001b[0m\u001b[0m\n",
      "\u001b[0;31mNameError\u001b[0m: name 'y' is not defined"
     ]
    }
   ],
   "source": [
    "import numpy as np\n",
    "import matplotlib.pyplot as plt\n",
    "from matplotlib.colors import ListedColormap\n",
    "from sklearn import neighbors, datasets\n",
    "\n",
    "np.random.seed(189)\n",
    "\n",
    "#From http://scikit-learn.org/stable/auto_examples/neighbors/plot_classification.html\n",
    "# import some data to play with\n",
    "iris = datasets.load_iris()\n",
    "\n",
    "# we only take the first two features. We could avoid this ugly\n",
    "# slicing by using a two-dim dataset\n",
    "X = iris.data[:, :2]\n",
    "X = X + 0.3*np.random.randn(X.shape[0], X.shape[1])\n",
    "y[:] = iris.target\n",
    "h = .02  # step size in the mesh\n",
    "\n",
    "# Create color maps\n",
    "cmap_light = ListedColormap(['#FFAAAA', '#AAFFAA', '#AAAAFF'])\n",
    "cmap_bold = ListedColormap(['#FF0000', '#00FF00', '#0000FF'])\n",
    "\n",
    "\n",
    "\n",
    "n_neighbors = 1\n",
    "weights ='uniform'\n",
    "\n",
    "\n",
    "def kNNForIris(num_neighbors,X,y,mweights = \"uniform\"):\n",
    "    plt.figure(figsize = (7,7))\n",
    "    x_min, x_max = X[:, 0].min() - 1, X[:, 0].max() + 1\n",
    "    y_min, y_max = X[:, 1].min() - 1, X[:, 1].max() + 1\n",
    "    xx, yy = np.meshgrid(np.arange(x_min, x_max, h),\n",
    "                         np.arange(y_min, y_max, h))\n",
    "\n",
    "    # we create an instance of Neighbours Classifier and fit the data.\n",
    "\n",
    "    clf = neighbors.KNeighborsClassifier(num_neighbors, weights=weights)\n",
    "    \n",
    "    clf.fit(X, y)\n",
    "\n",
    "    Z = clf.predict(np.c_[xx.ravel(), yy.ravel()])\n",
    "\n",
    "    # Put the result into a color plot\n",
    "    Z = Z.reshape(xx.shape)\n",
    "\n",
    "    plt.pcolormesh(xx, yy, Z, cmap=cmap_light)\n",
    "    # Plot also the training points\n",
    "    plt.scatter(X[:, 0], X[:, 1], c=y, cmap=cmap_bold,\n",
    "                edgecolor='k', s=20)\n",
    "    plt.xlim(xx.min(), xx.max())\n",
    "    plt.ylim(yy.min(), yy.max())\n",
    "    plt.title(\"3-Class classification (k = %i, weights = '%s')\"\n",
    "              % (num_neighbors, weights))\n",
    "    plt.show()\n",
    "    print(\"Training Accuracy: %.3f\"%(clf.score(X,y)))\n",
    "\n",
    "def determineError(X,Y,yTitle=\"Training Accuracy\"):\n",
    "    plt.figure(figsize = (7,7))\n",
    "\n",
    "        \n",
    "    errors = []\n",
    "    for num_neighbors in range(1,trainX.shape[0]):\n",
    "        clf = neighbors.KNeighborsClassifier(num_neighbors, weights=weights)\n",
    "        x_min, x_max = X[:, 0].min() - 1, X[:, 0].max() + 1\n",
    "        y_min, y_max = X[:, 1].min() - 1, X[:, 1].max() + 1\n",
    "        xx, yy = np.meshgrid(np.arange(x_min, x_max, h),\n",
    "                             np.arange(y_min, y_max, h))\n",
    "        clf.fit(X,Y)\n",
    "\n",
    "        error = clf.score(X,Y)\n",
    "        errors.append(error)\n",
    "    \n",
    "    plt.plot(errors)\n",
    "    plt.ylabel(yTitle)\n",
    "    plt.xlabel('k Value')\n",
    "    plt.show()\n",
    "    return errors"
   ]
  },
  {
   "cell_type": "markdown",
   "metadata": {},
   "source": [
    "## Test Different Values of k"
   ]
  },
  {
   "cell_type": "code",
   "execution_count": 21,
   "metadata": {},
   "outputs": [
    {
     "ename": "NameError",
     "evalue": "name 'kNNForIris' is not defined",
     "output_type": "error",
     "traceback": [
      "\u001b[0;31m---------------------------------------------------------------------------\u001b[0m",
      "\u001b[0;31mNameError\u001b[0m                                 Traceback (most recent call last)",
      "\u001b[0;32m<ipython-input-21-a8c9c3f73679>\u001b[0m in \u001b[0;36m<module>\u001b[0;34m()\u001b[0m\n\u001b[0;32m----> 1\u001b[0;31m \u001b[0mkNNForIris\u001b[0m\u001b[0;34m(\u001b[0m\u001b[0;36m1\u001b[0m\u001b[0;34m,\u001b[0m\u001b[0mX\u001b[0m\u001b[0;34m,\u001b[0m\u001b[0my\u001b[0m\u001b[0;34m)\u001b[0m\u001b[0;34m\u001b[0m\u001b[0m\n\u001b[0m\u001b[1;32m      2\u001b[0m \u001b[0mkNNForIris\u001b[0m\u001b[0;34m(\u001b[0m\u001b[0;36m6\u001b[0m\u001b[0;34m,\u001b[0m\u001b[0mX\u001b[0m\u001b[0;34m,\u001b[0m\u001b[0my\u001b[0m\u001b[0;34m)\u001b[0m\u001b[0;34m\u001b[0m\u001b[0m\n\u001b[1;32m      3\u001b[0m \u001b[0mkNNForIris\u001b[0m\u001b[0;34m(\u001b[0m\u001b[0;36m50\u001b[0m\u001b[0;34m,\u001b[0m\u001b[0mX\u001b[0m\u001b[0;34m,\u001b[0m\u001b[0my\u001b[0m\u001b[0;34m)\u001b[0m\u001b[0;34m\u001b[0m\u001b[0m\n",
      "\u001b[0;31mNameError\u001b[0m: name 'kNNForIris' is not defined"
     ]
    }
   ],
   "source": [
    "kNNForIris(1,X,y)\n",
    "kNNForIris(6,X,y)\n",
    "kNNForIris(50,X,y)"
   ]
  },
  {
   "cell_type": "markdown",
   "metadata": {},
   "source": [
    "## Decision boundaries in $k$-Nearest Neighbors\n",
    "\n",
    "The plots above have red, green, and blue colored sections corresponding to **decision boundaries**. Decision boundaries are the boundaries in which a specific classication decision is chosen. For example, the red section represents the area where a new point would be classified as red, and similarly for blue and green. The decision boundary is the dividing line between the red and green sections. When comparing $k=1$ and $k=50$, there are major differences in the decision boundary. For $k=1$, the decision boundary is not a smooth and contains many small \"islands of classification\". The decision boundary is very complex and attempts to fit specifically to each data point. This is not necessary the best choice. If we consider $k=50$, then the decision boundary is far mor simple. The decision boundary is roughly composed of straight lines, for example the green region is roughly triangular.\n",
    "\n",
    "How do we bring bias and variance into these plots?\n",
    "\n",
    "## Bias in kNN\n",
    "The bias for kNN can be thought of classification accuracy. For small values of $k$, our model performs exceptionally on the training data. $k=1$ even does perfect classification! For large values of $k$, our models performs quite poorly, hardly better than random guessing. Thus bias increases as $k$ increases.\n",
    "\n",
    "Below is a plot of the training accuracy using the the training data to create decision boundaries and predict. The bias increases (accuracy is the opposite of error)."
   ]
  },
  {
   "cell_type": "code",
   "execution_count": 22,
   "metadata": {},
   "outputs": [
    {
     "ename": "NameError",
     "evalue": "name 'determineError' is not defined",
     "output_type": "error",
     "traceback": [
      "\u001b[0;31m---------------------------------------------------------------------------\u001b[0m",
      "\u001b[0;31mNameError\u001b[0m                                 Traceback (most recent call last)",
      "\u001b[0;32m<ipython-input-22-f6297b7ecf95>\u001b[0m in \u001b[0;36m<module>\u001b[0;34m()\u001b[0m\n\u001b[0;32m----> 1\u001b[0;31m \u001b[0merrors\u001b[0m \u001b[0;34m=\u001b[0m \u001b[0mdetermineError\u001b[0m\u001b[0;34m(\u001b[0m\u001b[0mX\u001b[0m\u001b[0;34m,\u001b[0m\u001b[0my\u001b[0m\u001b[0;34m)\u001b[0m\u001b[0;34m\u001b[0m\u001b[0m\n\u001b[0m",
      "\u001b[0;31mNameError\u001b[0m: name 'determineError' is not defined"
     ]
    }
   ],
   "source": [
    "errors = determineError(X,y)"
   ]
  },
  {
   "cell_type": "markdown",
   "metadata": {},
   "source": [
    "## Variance in kNN\n",
    "Variance for kNN is best understood through the decision boundaries. With the smaller values of $k$, the decision boundaries are jagged and complex, but simple and straight for larger values of $k$. Thus variance decreases as $k$ increases. \n",
    "\n",
    "Below is a gif of the decision boundaries evolving as $k$ increases.\n",
    "<img src=\"knn.gif\" width=\"60%\">"
   ]
  },
  {
   "cell_type": "markdown",
   "metadata": {},
   "source": [
    "# Bias Variance Tradeoff\n",
    "\n",
    "We have seen that increasing $k$ increases the bias but decreases the variance. But we want both low bias and variance! How do we balance bias and variance? This is known as the bias variance tradeoff. \n",
    "\n",
    "![alt text](BiasVarianceTradeoff.png \"Bias Variance Tradeoff\")\n",
    "\n",
    "Image from http://scott.fortmann-roe.com/docs/BiasVariance.html\n"
   ]
  },
  {
   "cell_type": "markdown",
   "metadata": {},
   "source": [
    "The optimal model is one that minimizes the sum of the $\\text{bias}^2$ and variance. This is usually determined through testing various values and selecting the best one. A key notion of the trade off is that a central value is the best choice. When generating a model, it may seem that it is best to always minimize bias, because on average our models will do well. This is incorrect as in practice we only have one model (more on this later in the notebook!) and we would like consistent and good results with this single model. Although on average we may have low error, if we only have one opportunity it is very important to sacrifice some error to have greater confidence in our model.\n",
    "\n",
    "**Test for understanding**:\n",
    "Where does underfitting and overfitting lie in the graph above? How do they relate to bias and variance?"
   ]
  },
  {
   "cell_type": "markdown",
   "metadata": {},
   "source": [
    "# Ensemble Learning\n",
    "One solution is **ensemble learning**! Ensemble learning relies on the notion of aggregating multiple models and using the average classification of those models. We could create multiple decision trees for iris classification and average the prediction overall of the trees and use that as our prediction. What happens when we use a lot of trees? We get **random forest**. However, if we just created a bunch of decision trees, we would get the same decision tree each time. What we can do is sample what datapoints we would like our decision tree to train on, and select which subset of features we would like our decision tree to utilize. \n",
    "\n",
    "<img src=\"RandomForest.png\" width=\"60%\">\n",
    "\n",
    "Image from https://medium.com/@williamkoehrsen/random-forest-simple-explanation-377895a60d2d"
   ]
  },
  {
   "cell_type": "code",
   "execution_count": null,
   "metadata": {},
   "outputs": [],
   "source": []
  }
 ],
 "metadata": {
  "kernelspec": {
   "display_name": "Python 3",
   "language": "python",
   "name": "python3"
  },
  "language_info": {
   "codemirror_mode": {
    "name": "ipython",
    "version": 3
   },
   "file_extension": ".py",
   "mimetype": "text/x-python",
   "name": "python",
   "nbconvert_exporter": "python",
   "pygments_lexer": "ipython3",
   "version": "3.6.3"
  }
 },
 "nbformat": 4,
 "nbformat_minor": 2
}
